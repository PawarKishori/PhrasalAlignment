{
 "cells": [
  {
   "cell_type": "code",
   "execution_count": 1,
   "metadata": {
    "collapsed": false
   },
   "outputs": [
    {
     "name": "stdout",
     "output_type": "stream",
     "text": [
      "demo\t\t\t hindi_irshad.txt  modified_bkup    splitted\r\n",
      "gyan_nidhi_h500_out.txt  hindi_raw.txt\t   observation.txt\r\n",
      "hindi_irshad_mangal.txt  modified\t   process.ipynb\r\n"
     ]
    }
   ],
   "source": [
    "!ls\n"
   ]
  },
  {
   "cell_type": "code",
   "execution_count": 2,
   "metadata": {
    "collapsed": false
   },
   "outputs": [
    {
     "name": "stdout",
     "output_type": "stream",
     "text": [
      "502\n"
     ]
    }
   ],
   "source": [
    "#code to split output in multiple files\n",
    "import os\n",
    "import re\n",
    "import codecs as c\n",
    "i=1\n",
    "inputfile=\"gyan_nidhi_h500_out.txt\"\n",
    "if not os.path.exists(\"splitted\"):\n",
    "    os.mkdir(\"splitted\")\n",
    "with c.open(inputfile,'r',encoding='utf-8') as file1:\n",
    "    data = file1.read()\n",
    "    files = data.split(\"\\n\\n\")\n",
    "    \n",
    "    for file1 in files:\n",
    "        output = c.open(\"splitted/%d\" % i,'w',encoding='utf-8')\n",
    "        output.write(file1)\n",
    "        i=i+1\n",
    "        output.close()\n",
    "print i"
   ]
  },
  {
   "cell_type": "code",
   "execution_count": 4,
   "metadata": {
    "collapsed": false
   },
   "outputs": [],
   "source": [
    "#code to modify the files in splitted dir and save them into mofifies  dir\n",
    "import codecs as c\n",
    "if not os.path.exists(\"modified\"):\n",
    "    os.mkdir(\"modified\")\n",
    "for j in range(1,i):\n",
    "    raw_file = \"splitted/\"+str(j)\n",
    "    with c.open(raw_file,'r',encoding='utf-8') as f:\n",
    "        dict1={};words=[]\n",
    "        for line in f.readlines():\n",
    "            key = int(line.split('\\t')[0])\n",
    "            value = line.split('\\t')[1]\n",
    "            dict1[key]=value\n",
    "            dict1[0] = 'root'\n",
    "        f.seek(0,0)\n",
    "        for line in f.readlines():\n",
    "             words.append(dict1[int(line.split(\"\\t\")[6])])\n",
    "\n",
    "    f = c.open(raw_file,'r',encoding='utf-8')\n",
    "    mod_file = \"modified/\"+str(j)+\".1\"\n",
    "    f1 = c.open(mod_file,'w',encoding='utf-8')\n",
    "    line = f.readlines()\n",
    "    for element,value in zip(line,words):\n",
    "        elem = element.split(\"\\t\")\n",
    "        f1.write(elem[0]);f1.write(\"\\t\")\n",
    "        f1.write(elem[1]);f1.write(\"\\t\")\n",
    "        f1.write(elem[2]);f1.write(\"\\t\")\n",
    "        f1.write(elem[4]);f1.write(\"\\t\")\n",
    "        f1.write(value);f1.write(\"\\t\")\n",
    "        f1.write(elem[6]);f1.write(\"\\t\")\n",
    "        f1.write(elem[7]);f1.write(\"\\t\")\n",
    "        f1.write(\"\\n\")\n",
    "    f.close()\n",
    "    f1.close()"
   ]
  },
  {
   "cell_type": "code",
   "execution_count": 31,
   "metadata": {
    "collapsed": false
   },
   "outputs": [
    {
     "name": "stdout",
     "output_type": "stream",
     "text": [
      "Analysis   gyan_nidhi_h500_out.txt  hindi_raw.txt  processed_500.zip\r\n",
      "demo\t   hindi_irshad_mangal.txt  modified\t   process.ipynb\r\n",
      "demo_fact  hindi_irshad.txt\t    modified_bkup  splitted\r\n"
     ]
    }
   ],
   "source": [
    "!ls"
   ]
  },
  {
   "cell_type": "code",
   "execution_count": 29,
   "metadata": {
    "collapsed": false
   },
   "outputs": [
    {
     "name": "stdout",
     "output_type": "stream",
     "text": [
      "( id-word-cat-rel_id-relation\t1\tसप्तपुरियों\tNN\t3\tr6\t)\n",
      "( id-word-cat-rel_id-relation\t2\tके\tPSP\t1\tlwg__psp\t)\n",
      "( id-word-cat-rel_id-relation\t3\tदर्शन\tNN\t5\tk5=>k3\t)\n",
      "( id-word-cat-rel_id-relation\t4\tसे\tPSP\t3\tlwg__psp\t)\n",
      "( id-word-cat-rel_id-relation\t5\tमिलता\tVM\t0\tmain\t)\n",
      "( id-word-cat-rel_id-relation\t6\tहै\tVAUX\t5\tlwg__vaux*\t)\n",
      "( id-word-cat-rel_id-relation\t7\tमोक्ष\tNNC\t5\tk1\t)\n",
      "( id-word-cat-rel_id-relation\t8\t!\tSYM\t5\trsym\t)\n",
      ";~~~~~~~~~~\n",
      "( id-word-cat-rel_id-relation\t1\tहिंदू\tNNPC\t2\tpof__cn\t)\n",
      "( id-word-cat-rel_id-relation\t2\tधर्म\tNN\t8\tk7\t)\n",
      "( id-word-cat-rel_id-relation\t3\tमें\tPSP\t2\tlwg__psp\t)\n",
      "( id-word-cat-rel_id-relation\t4\tतीर्थ\tNN\t7\tr6\t)\n",
      "( id-word-cat-rel_id-relation\t5\tका\tPSP\t4\tlwg__psp\t)\n",
      "( id-word-cat-rel_id-relation\t6\tबड़ा\tJJ\t7\tnmod__adj\t)\n",
      "( id-word-cat-rel_id-relation\t7\tमहत्व\tNN\t8\tk1\t)\n",
      "( id-word-cat-rel_id-relation\t8\tहै\tVM\t0\tmain\t)\n",
      "( id-word-cat-rel_id-relation\t9\t.\tSYM\t8\trsym\t)\n",
      ";~~~~~~~~~~\n",
      "( id-word-cat-rel_id-relation\t1\tयूँ\tRB\t8\tadv\t)\n",
      "( id-word-cat-rel_id-relation\t2\tतो\tRP\t1\tlwg__rp\t)\n",
      "( id-word-cat-rel_id-relation\t3\tहर\tQF\t4\tnmod__adj\t)\n",
      "( id-word-cat-rel_id-relation\t4\tतीर्थ\tNN\t8\tk1\t)\n",
      "( id-word-cat-rel_id-relation\t5\tबड़ा\tJJ\t7\tnmod__adj\t)\n",
      "( id-word-cat-rel_id-relation\t6\tऔर\tQF\t7\tnmod__adj\t)\n",
      "( id-word-cat-rel_id-relation\t7\tअहम\tJJ\t8\tk1s\t)\n",
      "( id-word-cat-rel_id-relation\t8\tहै\tVM\t10\tccof\t)\n",
      "( id-word-cat-rel_id-relation\t9\t,\tSYM\t8\trsym\t)\n",
      "( id-word-cat-rel_id-relation\t10\tलेकिन\tCC\t0\tmain\t)\n",
      "( id-word-cat-rel_id-relation\t11\tसात\tQC\t12\tnmod__adj\t)\n",
      "( id-word-cat-rel_id-relation\t12\tस्थानों\tNN\t15\tr6\t)\n",
      "( id-word-cat-rel_id-relation\t13\tकी\tPSP\t12\tlwg__psp\t)\n",
      "( id-word-cat-rel_id-relation\t14\tबड़ी\tJJ\t15\tnmod__adj\t)\n",
      "( id-word-cat-rel_id-relation\t15\tमहत्ता\tNN\t16\tccof\t)\n",
      "( id-word-cat-rel_id-relation\t16\tऔर\tCC\t18\tk1\t)\n",
      "( id-word-cat-rel_id-relation\t17\tमान्यता\tNN\t16\tccof\t)\n",
      "( id-word-cat-rel_id-relation\t18\tहै\tVM\t10\tccof\t)\n",
      "( id-word-cat-rel_id-relation\t19\t.\tSYM\t10\trsym\t)\n"
     ]
    }
   ],
   "source": [
    "#Code to convert parser output into facts\n",
    "\n",
    "import codecs\n",
    "filename = \"demo\"\n",
    "with codecs.open(filename,\"r\", encoding=\"utf-8\") as fopen:\n",
    "    for line in fopen:\n",
    "        if len(line) == 1:\n",
    "            temp = \";~~~~~~~~~~\"\n",
    "        else:\n",
    "            words = line.split(\"\\t\")\n",
    "            temp = \"( id-word-cat-rel_id-relation\" + \"\\t\" + words[0] + \"\\t\" + words[1]+ \"\\t\" + words[3] +\"\\t\" +words[6]+ \"\\t\" + words[7]+ \"\\t\"+ \")\" \n",
    "        with codecs.open(filename+\"_fact\",\"a\",encoding=\"utf-8\") as f:\n",
    "            f.write(temp)\n",
    "            f.write(\"\\n\")\n",
    "        print temp"
   ]
  },
  {
   "cell_type": "code",
   "execution_count": 33,
   "metadata": {
    "collapsed": false
   },
   "outputs": [],
   "source": [
    "import codecs\n",
    "filename = \"gyan_nidhi_h500_out.txt\"\n",
    "\n",
    "with codecs.open(filename,\"r\", encoding=\"utf-8\") as fopen:\n",
    "    for line in fopen:\n",
    "        if len(line) == 1:\n",
    "            temp = \"\"\n",
    "        else:\n",
    "            words = line.split(\"\\t\")[7]\n",
    "            temp = words\n",
    "        with codecs.open(filename+\"_list\",\"a\",encoding=\"utf-8\") as f:\n",
    "            f.write(temp)\n",
    "            f.write(\"\\n\")\n",
    "#         print temp"
   ]
  },
  {
   "cell_type": "code",
   "execution_count": null,
   "metadata": {
    "collapsed": false
   },
   "outputs": [],
   "source": [
    "\n",
    "\n",
    "#bkup\n",
    "with c.open(\"1\",'r',encoding='utf-8') as f:\n",
    "    dict1={};words=[]\n",
    "    for line in f.readlines():\n",
    "        key = int(line.split('\\t')[0])\n",
    "        value = line.split('\\t')[1]\n",
    "        dict1[key]=value\n",
    "        dict1[0] = 'root'\n",
    "    f.seek(0,0)\n",
    "    for line in f.readlines():\n",
    "         words.append(dict1[int(line.split(\"\\t\")[6])])\n",
    "\n",
    "f = c.open(\"1\",'r',encoding='utf-8')\n",
    "f1 = c.open(\"1.1\",'w',encoding='utf-8')\n",
    "line = f.readlines()\n",
    "for element,value in zip(line,words):\n",
    "    elem = element.split(\"\\t\")\n",
    "    f1.write(elem[0]);f1.write(\"\\t\")\n",
    "    f1.write(elem[1]);f1.write(\"\\t\")\n",
    "    f1.write(elem[2]);f1.write(\"\\t\")\n",
    "    f1.write(elem[4]);f1.write(\"\\t\")\n",
    "    f1.write(value);f1.write(\"\\t\")\n",
    "    f1.write(elem[6]);f1.write(\"\\t\")\n",
    "    f1.write(elem[7]);f1.write(\"\\t\")\n",
    "    f1.write(\"\\n\")"
   ]
  },
  {
   "cell_type": "code",
   "execution_count": 142,
   "metadata": {
    "collapsed": true
   },
   "outputs": [],
   "source": [
    "import os\n",
    "os.mkdir(\"ll\")"
   ]
  },
  {
   "cell_type": "code",
   "execution_count": 121,
   "metadata": {
    "collapsed": true
   },
   "outputs": [],
   "source": [
    "c.open(\"1\",'r',encoding='utf-8') "
   ]
  },
  {
   "cell_type": "code",
   "execution_count": null,
   "metadata": {
    "collapsed": false
   },
   "outputs": [],
   "source": [
    "#demo code to add a list as a column in file\n",
    "L = ['2.3','1.2']\n",
    "with open(\"file1.txt\", \"r\") as f:\n",
    "    # skip the first line but output it?\n",
    "    print f.readline().rstrip('\\n') \n",
    "\n",
    "    for value,line in zip(L,f):\n",
    "        elements = line.split()\n",
    "        print \"{}\\t{}\\t{}\".format(elements[0],value,elements[2])\n"
   ]
  },
  {
   "cell_type": "code",
   "execution_count": null,
   "metadata": {
    "collapsed": true
   },
   "outputs": [],
   "source": [
    "#code to split output in multiple files\n",
    "#demo code\n",
    "import re\n",
    "import codecs as c\n",
    "i=1\n",
    "\n",
    "with c.open(inputfile,'r',encoding='utf-8') as file1:\n",
    "    data = file1.read()\n",
    "    files = data.split(\"\\n\\n\")\n",
    "    \n",
    "    for file1 in files:\n",
    "        output = c.open(\"%d\" % i,'w',encoding='utf-8')\n",
    "        output.write(file1)\n",
    "        i=i+1\n",
    "        output.close()"
   ]
  }
 ],
 "metadata": {
  "kernelspec": {
   "display_name": "Python 2",
   "language": "python",
   "name": "python2"
  },
  "language_info": {
   "codemirror_mode": {
    "name": "ipython",
    "version": 2
   },
   "file_extension": ".py",
   "mimetype": "text/x-python",
   "name": "python",
   "nbconvert_exporter": "python",
   "pygments_lexer": "ipython2",
   "version": "2.7.6"
  }
 },
 "nbformat": 4,
 "nbformat_minor": 1
}
