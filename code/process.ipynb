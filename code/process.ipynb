{
 "cells": [
  {
   "cell_type": "code",
   "execution_count": 1,
   "metadata": {
    "collapsed": false
   },
   "outputs": [
    {
     "name": "stdout",
     "output_type": "stream",
     "text": [
      "demo\t\t\t hindi_irshad.txt  modified_bkup    splitted\r\n",
      "gyan_nidhi_h500_out.txt  hindi_raw.txt\t   observation.txt\r\n",
      "hindi_irshad_mangal.txt  modified\t   process.ipynb\r\n"
     ]
    }
   ],
   "source": [
    "!ls\n"
   ]
  },
  {
   "cell_type": "code",
   "execution_count": 2,
   "metadata": {
    "collapsed": false
   },
   "outputs": [
    {
     "name": "stdout",
     "output_type": "stream",
     "text": [
      "502\n"
     ]
    }
   ],
   "source": [
    "#code to split output in multiple files\n",
    "import os\n",
    "import re\n",
    "import codecs as c\n",
    "i=1\n",
    "inputfile=\"gyan_nidhi_h500_out.txt\"\n",
    "if not os.path.exists(\"splitted\"):\n",
    "    os.mkdir(\"splitted\")\n",
    "with c.open(inputfile,'r',encoding='utf-8') as file1:\n",
    "    data = file1.read()\n",
    "    files = data.split(\"\\n\\n\")\n",
    "    \n",
    "    for file1 in files:\n",
    "        output = c.open(\"splitted/%d\" % i,'w',encoding='utf-8')\n",
    "        output.write(file1)\n",
    "        i=i+1\n",
    "        output.close()\n",
    "print i"
   ]
  },
  {
   "cell_type": "code",
   "execution_count": 4,
   "metadata": {
    "collapsed": false
   },
   "outputs": [],
   "source": [
    "#code to modify the files in splitted dir and save them into mofifies  dir\n",
    "import codecs as c\n",
    "if not os.path.exists(\"modified\"):\n",
    "    os.mkdir(\"modified\")\n",
    "for j in range(1,i):\n",
    "    raw_file = \"splitted/\"+str(j)\n",
    "    with c.open(raw_file,'r',encoding='utf-8') as f:\n",
    "        dict1={};words=[]\n",
    "        for line in f.readlines():\n",
    "            key = int(line.split('\\t')[0])\n",
    "            value = line.split('\\t')[1]\n",
    "            dict1[key]=value\n",
    "            dict1[0] = 'root'\n",
    "        f.seek(0,0)\n",
    "        for line in f.readlines():\n",
    "             words.append(dict1[int(line.split(\"\\t\")[6])])\n",
    "\n",
    "    f = c.open(raw_file,'r',encoding='utf-8')\n",
    "    mod_file = \"modified/\"+str(j)+\".1\"\n",
    "    f1 = c.open(mod_file,'w',encoding='utf-8')\n",
    "    line = f.readlines()\n",
    "    for element,value in zip(line,words):\n",
    "        elem = element.split(\"\\t\")\n",
    "        f1.write(elem[0]);f1.write(\"\\t\")\n",
    "        f1.write(elem[1]);f1.write(\"\\t\")\n",
    "        f1.write(elem[2]);f1.write(\"\\t\")\n",
    "        f1.write(elem[4]);f1.write(\"\\t\")\n",
    "        f1.write(value);f1.write(\"\\t\")\n",
    "        f1.write(elem[6]);f1.write(\"\\t\")\n",
    "        f1.write(elem[7]);f1.write(\"\\t\")\n",
    "        f1.write(\"\\n\")\n",
    "    f.close()\n",
    "    f1.close()"
   ]
  },
  {
   "cell_type": "code",
   "execution_count": null,
   "metadata": {
    "collapsed": false
   },
   "outputs": [],
   "source": [
    "\n",
    "\n",
    "#bkup\n",
    "with c.open(\"1\",'r',encoding='utf-8') as f:\n",
    "    dict1={};words=[]\n",
    "    for line in f.readlines():\n",
    "        key = int(line.split('\\t')[0])\n",
    "        value = line.split('\\t')[1]\n",
    "        dict1[key]=value\n",
    "        dict1[0] = 'root'\n",
    "    f.seek(0,0)\n",
    "    for line in f.readlines():\n",
    "         words.append(dict1[int(line.split(\"\\t\")[6])])\n",
    "\n",
    "f = c.open(\"1\",'r',encoding='utf-8')\n",
    "f1 = c.open(\"1.1\",'w',encoding='utf-8')\n",
    "line = f.readlines()\n",
    "for element,value in zip(line,words):\n",
    "    elem = element.split(\"\\t\")\n",
    "    f1.write(elem[0]);f1.write(\"\\t\")\n",
    "    f1.write(elem[1]);f1.write(\"\\t\")\n",
    "    f1.write(elem[2]);f1.write(\"\\t\")\n",
    "    f1.write(elem[4]);f1.write(\"\\t\")\n",
    "    f1.write(value);f1.write(\"\\t\")\n",
    "    f1.write(elem[6]);f1.write(\"\\t\")\n",
    "    f1.write(elem[7]);f1.write(\"\\t\")\n",
    "    f1.write(\"\\n\")"
   ]
  },
  {
   "cell_type": "code",
   "execution_count": 142,
   "metadata": {
    "collapsed": true
   },
   "outputs": [],
   "source": [
    "import os\n",
    "os.mkdir(\"ll\")"
   ]
  },
  {
   "cell_type": "code",
   "execution_count": 121,
   "metadata": {
    "collapsed": true
   },
   "outputs": [],
   "source": [
    "c.open(\"1\",'r',encoding='utf-8') "
   ]
  },
  {
   "cell_type": "code",
   "execution_count": null,
   "metadata": {
    "collapsed": false
   },
   "outputs": [],
   "source": [
    "#demo code to add a list as a column in file\n",
    "L = ['2.3','1.2']\n",
    "with open(\"file1.txt\", \"r\") as f:\n",
    "    # skip the first line but output it?\n",
    "    print f.readline().rstrip('\\n') \n",
    "\n",
    "    for value,line in zip(L,f):\n",
    "        elements = line.split()\n",
    "        print \"{}\\t{}\\t{}\".format(elements[0],value,elements[2])\n"
   ]
  },
  {
   "cell_type": "code",
   "execution_count": null,
   "metadata": {
    "collapsed": true
   },
   "outputs": [],
   "source": [
    "#code to split output in multiple files\n",
    "#demo code\n",
    "import re\n",
    "import codecs as c\n",
    "i=1\n",
    "\n",
    "with c.open(inputfile,'r',encoding='utf-8') as file1:\n",
    "    data = file1.read()\n",
    "    files = data.split(\"\\n\\n\")\n",
    "    \n",
    "    for file1 in files:\n",
    "        output = c.open(\"%d\" % i,'w',encoding='utf-8')\n",
    "        output.write(file1)\n",
    "        i=i+1\n",
    "        output.close()"
   ]
  }
 ],
 "metadata": {
  "kernelspec": {
   "display_name": "Python 2",
   "language": "python",
   "name": "python2"
  },
  "language_info": {
   "codemirror_mode": {
    "name": "ipython",
    "version": 2
   },
   "file_extension": ".py",
   "mimetype": "text/x-python",
   "name": "python",
   "nbconvert_exporter": "python",
   "pygments_lexer": "ipython2",
   "version": "2.7.6"
  }
 },
 "nbformat": 4,
 "nbformat_minor": 1
}
